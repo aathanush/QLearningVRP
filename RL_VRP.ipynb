{
  "cells": [
    {
      "cell_type": "markdown",
      "source": [
        "# Initialization"
      ],
      "metadata": {
        "id": "6v6srAXyUvOt"
      }
    },
    {
      "cell_type": "code",
      "source": [
        "import numpy as np\n",
        "import random\n",
        "import matplotlib.pyplot as plt\n"
      ],
      "metadata": {
        "id": "zO03NlhoUrWk"
      },
      "execution_count": 95,
      "outputs": []
    },
    {
      "cell_type": "code",
      "source": [
        "num_locations=int(input(\"Enter the total number of locations\"))\n",
        "village_coordinates = np.array([(random.random(),random.random()) for _ in range(num_locations)])\n",
        "cost_matrix= np.zeros((num_locations, num_locations))\n",
        "num_vehicles=int(input(\"Enter the number of vehicles\"))\n",
        "vehicle_distances=np.zeros((1,num_vehicles))\n"
      ],
      "metadata": {
        "id": "6poLWzvRU3-O",
        "outputId": "f0331cd2-f0e6-413d-dc17-d458b7889c0d",
        "colab": {
          "base_uri": "https://localhost:8080/"
        }
      },
      "execution_count": 96,
      "outputs": [
        {
          "name": "stdout",
          "output_type": "stream",
          "text": [
            "Enter the total number of locations10\n",
            "Enter the number of vehicles4\n"
          ]
        }
      ]
    },
    {
      "cell_type": "code",
      "source": [
        "#implement a star here"
      ],
      "metadata": {
        "id": "U_5PZN4KVoYK"
      },
      "execution_count": 97,
      "outputs": []
    },
    {
      "cell_type": "code",
      "source": [
        "#implement code for cost_matrix here\n",
        "cost_matrix = np.random.randn(num_locations,num_locations)\n",
        "cost_matrix"
      ],
      "metadata": {
        "id": "ufLYM8OsW2m_",
        "outputId": "c53b3962-ec94-4a06-d98a-2eaf309370b1",
        "colab": {
          "base_uri": "https://localhost:8080/"
        }
      },
      "execution_count": 98,
      "outputs": [
        {
          "output_type": "execute_result",
          "data": {
            "text/plain": [
              "array([[ 0.07430682, -1.3166589 , -1.07414469, -0.91184936, -0.00735942,\n",
              "         0.80855607,  1.30687681, -0.95607311, -1.29974407, -0.63695669],\n",
              "       [ 0.62094121,  1.33543717, -0.59084387, -0.65646255,  0.16112826,\n",
              "        -1.09512166,  1.05529705, -0.62460707, -2.12149622, -0.66560743],\n",
              "       [ 0.48017529,  0.76078499, -0.99226856,  0.54666706, -1.0212169 ,\n",
              "         0.22202008,  0.22395102,  1.31071216,  0.70808472,  1.5959422 ],\n",
              "       [-0.96859933,  0.55355297,  1.78767193, -1.5222496 ,  1.06247479,\n",
              "        -0.79582978,  0.39991484, -0.16797091, -0.38348039, -0.5739686 ],\n",
              "       [-0.57912319, -0.57206947,  0.01351095,  0.8478574 , -0.05304665,\n",
              "        -0.21180638,  0.24644016,  0.44586668, -1.28190413, -0.6705244 ],\n",
              "       [-0.58851275,  0.097219  ,  0.53488599,  2.07597022,  0.59447165,\n",
              "         0.56529053,  1.62612318,  1.70085869, -1.27876727,  0.08463215],\n",
              "       [ 2.48482474,  0.65421877,  0.47263343, -1.21339547,  0.28838401,\n",
              "         0.12844009,  0.61935665,  0.16371858,  0.38176014, -0.06253874],\n",
              "       [ 0.12822107, -0.59729805,  1.07578253, -1.65351541, -1.65161968,\n",
              "         0.31946264,  0.54255485,  0.60233996,  2.17378168,  0.07230827],\n",
              "       [ 0.33743092,  0.45486114, -0.46310626, -0.41601552, -1.06467653,\n",
              "        -0.2279554 , -0.46512314,  0.44241206, -2.11336914, -1.26479797],\n",
              "       [ 0.18304325,  1.3600271 , -1.69772211,  0.5135882 ,  1.00989438,\n",
              "         0.7044042 , -1.34990924, -2.63581388,  0.39083085, -0.0782763 ]])"
            ]
          },
          "metadata": {},
          "execution_count": 98
        }
      ]
    },
    {
      "cell_type": "code",
      "source": [
        "Q_table=[[1] * num_locations] * num_locations\n",
        "Q_table[-1]=[0] * num_locations\n",
        "D1=np.zeros((num_vehicles,num_locations))\n",
        "D2=np.zeros((num_locations, num_locations))"
      ],
      "metadata": {
        "id": "kTKh080VW5QR"
      },
      "execution_count": 99,
      "outputs": []
    },
    {
      "cell_type": "markdown",
      "source": [
        "## Reinforcement Learning Based on Epsilon Greedy Approach for Solving Vehicle Routing Problem"
      ],
      "metadata": {
        "id": "hU-CQ8CGsiGB"
      }
    },
    {
      "cell_type": "code",
      "source": [
        "def argmax(state):\n",
        "    \"\"\"\n",
        "    Takes in a list of q_values and returns the index of the item\n",
        "    with the highest value. Breaks ties randomly.\n",
        "    returns: int - the index of the highest value in q_values\n",
        "    \"\"\"\n",
        "    top_value = float(\"-inf\")\n",
        "    ties = []\n",
        "\n",
        "    for i in range(len(Q_table[state])):\n",
        "        if Q_table[state][i]>top_value:\n",
        "            top_value=Q_table[state][i]\n",
        "            ties=[i]\n",
        "        elif Q_table[state][i]==top_value:\n",
        "            ties.append(i)\n",
        "\n",
        "    return np.random.choice(ties)"
      ],
      "metadata": {
        "id": "78jxIsJe7FWY"
      },
      "execution_count": 100,
      "outputs": []
    },
    {
      "cell_type": "code",
      "source": [
        "def next_action(state,epsilon,visited):\n",
        "  n=random.random()\n",
        "  not_visited = [i for i in range(num_locations) if i not in visited]\n",
        "  if n < epsilon:\n",
        "    A = random.choice(list(range(num_locations)))\n",
        "    while A in visited:\n",
        "      A = random.choice(list(range(num_locations)))\n",
        "  else:\n",
        "    high = Q_table[state][not_visited[0]]\n",
        "    A=not_visited[0]\n",
        "\n",
        "    for i in not_visited[1:]:\n",
        "      if high < Q_table[state][i]:\n",
        "        high=Q_table[state][i]\n",
        "        A=i\n",
        "  return A"
      ],
      "metadata": {
        "id": "2H7ml5Ht9C2r"
      },
      "execution_count": 101,
      "outputs": []
    },
    {
      "cell_type": "code",
      "source": [
        "def compute_cost(path):\n",
        "  cost=0\n",
        "  for i in range(1,len(path)):\n",
        "    cost+=cost_matrix[path[i-1]][path[i]]\n",
        "  return cost"
      ],
      "metadata": {
        "id": "3xs3CRfWwBpD"
      },
      "execution_count": 102,
      "outputs": []
    },
    {
      "cell_type": "code",
      "source": [
        "def train_agent(alpha,gamma,epsilon,episodes=100):\n",
        "\n",
        "\n",
        "  for e in range(episodes):\n",
        "    current = 0  # initializing current state\n",
        "    print(f\"Iteration {e}\")\n",
        "\n",
        "    covered = [current]\n",
        "    while set(covered)!=set(list(range(num_locations))):\n",
        "      next=next_action(current,epsilon,covered)\n",
        "      Q_table[current][next] = Q_table[current][next] + alpha * (cost_matrix[current][next] + gamma * Q_table[current][argmax(state=current)] - Q_table[current][next])\n",
        "      current = next\n",
        "      covered.append(current)\n",
        "\n",
        "    print(covered)\n",
        "    print(compute_cost(covered))\n",
        "\n"
      ],
      "metadata": {
        "id": "qMvQ0pWY35X2"
      },
      "execution_count": 103,
      "outputs": []
    },
    {
      "cell_type": "code",
      "source": [
        "train_agent(0.01,0.05,0.60,1000)"
      ],
      "metadata": {
        "id": "brLV1SE44mAw",
        "outputId": "07a9e6cb-50b4-475f-c3c5-fae3d2009a70",
        "colab": {
          "base_uri": "https://localhost:8080/"
        }
      },
      "execution_count": 104,
      "outputs": [
        {
          "output_type": "stream",
          "name": "stdout",
          "text": [
            "Iteration 0\n",
            "[0, 2, 1, 7, 3, 5, 6, 4, 8, 9]\n",
            "-4.019506878008961\n",
            "Iteration 1\n",
            "[0, 2, 1, 6, 3, 9, 4, 7, 5, 8]\n",
            "-0.5489702931745797\n",
            "Iteration 2\n",
            "[0, 6, 1, 9, 5, 4, 8, 3, 7, 2]\n",
            "1.804255967517773\n",
            "Iteration 3\n",
            "[0, 3, 4, 5, 6, 8, 7, 9, 1, 2]\n",
            "3.230605939445704\n",
            "Iteration 4\n",
            "[0, 8, 6, 1, 4, 9, 5, 3, 7, 2]\n",
            "2.068141454431212\n",
            "Iteration 5\n",
            "[0, 8, 5, 3, 6, 1, 2, 4, 7, 9]\n",
            "0.5085185416527773\n",
            "Iteration 6\n",
            "[0, 6, 9, 4, 5, 7, 1, 8, 2, 3]\n",
            "1.1080512978014507\n",
            "Iteration 7\n",
            "[0, 6, 1, 4, 8, 7, 5, 2, 3, 9]\n",
            "2.109778866795371\n",
            "Iteration 8\n",
            "[0, 3, 1, 4, 6, 7, 5, 8, 2, 9]\n",
            "0.3865219318931232\n",
            "Iteration 9\n",
            "[0, 8, 6, 1, 4, 7, 9, 5, 3, 2]\n",
            "4.136701118974161\n",
            "Iteration 10\n",
            "[0, 6, 9, 4, 1, 7, 8, 5, 2, 3]\n",
            "4.084935257474111\n",
            "Iteration 11\n",
            "[0, 7, 6, 4, 1, 3, 5, 2, 9, 8]\n",
            "0.372162994325609\n",
            "Iteration 12\n",
            "[0, 8, 2, 6, 9, 4, 5, 3, 7, 1]\n",
            "0.5073512096022096\n",
            "Iteration 13\n",
            "[0, 5, 3, 6, 4, 9, 1, 7, 2, 8]\n",
            "5.421588012226684\n",
            "Iteration 14\n",
            "[0, 9, 5, 2, 8, 3, 1, 4, 7, 6]\n",
            "2.5975054702530422\n",
            "Iteration 15\n",
            "[0, 6, 3, 4, 5, 1, 9, 8, 2, 7]\n",
            "1.6141980711239494\n",
            "Iteration 16\n",
            "[0, 6, 7, 2, 4, 1, 3, 9, 8, 5]\n",
            "-0.11446414368203897\n",
            "Iteration 17\n",
            "[0, 9, 4, 6, 1, 5, 3, 8, 7, 2]\n",
            "3.389159383459187\n",
            "Iteration 18\n",
            "[0, 9, 4, 6, 3, 1, 2, 7, 5, 8]\n",
            "-0.2799009796438571\n",
            "Iteration 19\n",
            "[0, 8, 7, 1, 6, 4, 9, 2, 5, 3]\n",
            "-0.18120522398948768\n",
            "Iteration 20\n",
            "[0, 6, 4, 3, 1, 9, 7, 2, 5, 8]\n",
            "-0.2857147762405512\n",
            "Iteration 21\n",
            "[0, 8, 2, 9, 5, 6, 3, 7, 4, 1]\n",
            "-1.44143628928308\n",
            "Iteration 22\n",
            "[0, 6, 9, 4, 8, 5, 2, 1, 3, 7]\n",
            "1.2156104483460428\n",
            "Iteration 23\n",
            "[0, 6, 1, 7, 8, 2, 5, 4, 9, 3]\n",
            "3.7067194502581375\n",
            "Iteration 24\n",
            "[0, 6, 2, 4, 3, 7, 1, 9, 5, 8]\n",
            "-0.39908871215538844\n",
            "Iteration 25\n",
            "[0, 6, 1, 7, 8, 3, 4, 5, 2, 9]\n",
            "6.075751275904363\n",
            "Iteration 26\n",
            "[0, 6, 4, 2, 3, 5, 1, 7, 9, 8]\n",
            "1.2953601070525071\n",
            "Iteration 27\n",
            "[0, 6, 4, 3, 2, 7, 1, 5, 9, 8]\n",
            "4.324545585262255\n",
            "Iteration 28\n",
            "[0, 2, 6, 3, 1, 7, 4, 9, 8, 5]\n",
            "-4.293911878104717\n",
            "Iteration 29\n",
            "[0, 7, 5, 3, 2, 9, 6, 1, 8, 4]\n",
            "0.9411106504032543\n",
            "Iteration 30\n",
            "[0, 7, 6, 3, 2, 1, 8, 4, 5, 9]\n",
            "-2.3918037954830997\n",
            "Iteration 31\n",
            "[0, 6, 2, 9, 5, 3, 1, 8, 4, 7]\n",
            "3.969073766939268\n",
            "Iteration 32\n",
            "[0, 6, 2, 7, 3, 8, 1, 9, 4, 5]\n",
            "1.6405683289728459\n",
            "Iteration 33\n",
            "[0, 6, 1, 2, 3, 8, 4, 7, 5, 9]\n",
            "1.3187233212045175\n",
            "Iteration 34\n",
            "[0, 6, 9, 5, 4, 8, 2, 3, 7, 1]\n",
            "0.5796016304220396\n",
            "Iteration 35\n",
            "[0, 6, 7, 4, 8, 2, 3, 1, 9, 5]\n",
            "-0.7870178839329345\n",
            "Iteration 36\n",
            "[0, 3, 6, 2, 1, 7, 5, 4, 8, 9]\n",
            "-1.5358909769433513\n",
            "Iteration 37\n",
            "[0, 8, 2, 6, 3, 5, 1, 4, 9, 7]\n",
            "-6.596115587391253\n",
            "Iteration 38\n",
            "[0, 1, 3, 5, 4, 8, 6, 2, 7, 9]\n",
            "-2.0658529955123943\n",
            "Iteration 39\n",
            "[0, 6, 1, 2, 3, 8, 5, 4, 7, 9]\n",
            "2.4181295906126037\n",
            "Iteration 40\n",
            "[0, 6, 1, 2, 4, 7, 9, 5, 8, 3]\n",
            "-0.12316881588516454\n",
            "Iteration 41\n",
            "[0, 6, 1, 2, 3, 4, 7, 9, 8, 5]\n",
            "3.660443966249324\n",
            "Iteration 42\n",
            "[0, 1, 6, 3, 7, 8, 4, 2, 5, 9]\n",
            "-0.21345991138582981\n",
            "Iteration 43\n",
            "[0, 9, 4, 6, 1, 5, 8, 2, 7, 3]\n",
            "-1.9062018217032566\n",
            "Iteration 44\n",
            "[0, 6, 1, 9, 4, 8, 5, 7, 3, 2]\n",
            "2.630538213260026\n",
            "Iteration 45\n",
            "[0, 6, 1, 5, 7, 9, 8, 2, 3, 4]\n",
            "4.176007308796792\n",
            "Iteration 46\n",
            "[0, 6, 3, 1, 7, 9, 4, 5, 2, 8]\n",
            "2.135794244709583\n",
            "Iteration 47\n",
            "[0, 6, 7, 4, 2, 1, 3, 8, 9, 5]\n",
            "-1.0070650527717937\n",
            "Iteration 48\n",
            "[0, 3, 2, 6, 7, 8, 1, 4, 5, 9]\n",
            "3.926089019136178\n",
            "Iteration 49\n",
            "[0, 6, 1, 7, 9, 4, 2, 8, 5, 3]\n",
            "4.988301665697685\n",
            "Iteration 50\n",
            "[0, 6, 5, 4, 1, 3, 2, 7, 9, 8]\n",
            "4.362779741498233\n",
            "Iteration 51\n",
            "[0, 6, 2, 7, 3, 1, 4, 8, 9, 5]\n",
            "0.30909034008387914\n",
            "Iteration 52\n",
            "[0, 3, 1, 7, 9, 5, 6, 2, 8, 4]\n",
            "1.5359738212639853\n",
            "Iteration 53\n",
            "[0, 6, 2, 1, 9, 8, 7, 4, 3, 5]\n",
            "1.1083386420027006\n",
            "Iteration 54\n",
            "[0, 6, 9, 5, 4, 1, 2, 7, 3, 8]\n",
            "0.6540169601209788\n",
            "Iteration 55\n",
            "[0, 1, 6, 2, 7, 4, 3, 5, 9, 8]\n",
            "0.3978546639045324\n",
            "Iteration 56\n",
            "[0, 4, 7, 1, 6, 9, 5, 2, 3, 8]\n",
            "2.236444394328083\n",
            "Iteration 57\n",
            "[0, 5, 6, 7, 2, 1, 4, 9, 8, 3]\n",
            "3.9003845365694434\n",
            "Iteration 58\n",
            "[0, 8, 9, 7, 2, 6, 5, 4, 1, 3]\n",
            "-4.406242648399609\n",
            "Iteration 59\n",
            "[0, 3, 5, 7, 1, 9, 4, 6, 2, 8]\n",
            "1.167326767582626\n",
            "Iteration 60\n",
            "[0, 2, 5, 6, 7, 1, 4, 3, 9, 8]\n",
            "1.1662670033628693\n",
            "Iteration 61\n",
            "[0, 6, 7, 2, 3, 1, 5, 4, 8, 9]\n",
            "0.5992458412289339\n",
            "Iteration 62\n",
            "[0, 6, 7, 2, 5, 8, 1, 4, 3, 9]\n",
            "2.379508936347309\n",
            "Iteration 63\n",
            "[0, 4, 9, 6, 1, 7, 8, 2, 5, 3]\n",
            "2.0104843456119528\n",
            "Iteration 64\n",
            "[0, 3, 4, 6, 7, 2, 5, 1, 9, 8]\n",
            "1.68102920397783\n",
            "Iteration 65\n",
            "[0, 5, 6, 2, 3, 7, 4, 1, 8, 9]\n",
            "-2.3239745094593616\n",
            "Iteration 66\n",
            "[0, 2, 6, 8, 9, 4, 7, 1, 3, 5]\n",
            "-2.3270608208643764\n",
            "Iteration 67\n",
            "[0, 5, 4, 2, 1, 6, 7, 9, 8, 3]\n",
            "3.4434628903266833\n",
            "Iteration 68\n",
            "[0, 7, 3, 6, 8, 1, 2, 4, 5, 9]\n",
            "-3.1122873879521027\n",
            "Iteration 69\n",
            "[0, 3, 5, 2, 6, 7, 1, 4, 9, 8]\n",
            "-1.500986883933566\n",
            "Iteration 70\n",
            "[0, 5, 8, 6, 2, 7, 1, 9, 3, 4]\n",
            "1.1611687707609915\n",
            "Iteration 71\n",
            "[0, 6, 2, 4, 1, 7, 9, 8, 3, 5]\n",
            "-1.1870893693888411\n",
            "Iteration 72\n",
            "[0, 6, 2, 4, 7, 1, 3, 5, 8, 9]\n",
            "-3.388995587190121\n",
            "Iteration 73\n",
            "[0, 4, 1, 2, 9, 8, 6, 5, 3, 7]\n",
            "2.387816556941205\n",
            "Iteration 74\n",
            "[0, 3, 2, 6, 9, 4, 5, 7, 1, 8]\n",
            "0.8173872774080198\n",
            "Iteration 75\n",
            "[0, 2, 5, 4, 9, 8, 6, 7, 1, 3]\n",
            "-2.0925116821797944\n",
            "Iteration 76\n",
            "[0, 9, 3, 6, 4, 5, 7, 2, 1, 8]\n",
            "1.7690539625599975\n",
            "Iteration 77\n",
            "[0, 3, 6, 7, 8, 2, 1, 4, 5, 9]\n",
            "2.1571984985677175\n",
            "Iteration 78\n",
            "[0, 9, 4, 7, 5, 2, 1, 6, 8, 3]\n",
            "3.454979656647943\n",
            "Iteration 79\n",
            "[0, 7, 2, 8, 1, 6, 9, 3, 5, 4]\n",
            "2.587643662976541\n",
            "Iteration 80\n",
            "[0, 6, 3, 7, 2, 1, 4, 5, 8, 9]\n",
            "-0.8321653949336338\n",
            "Iteration 81\n",
            "[0, 5, 6, 2, 7, 9, 4, 1, 3, 8]\n",
            "3.6882150952970494\n",
            "Iteration 82\n",
            "[0, 8, 7, 6, 5, 2, 9, 4, 3, 1]\n",
            "4.3557958809319635\n",
            "Iteration 83\n",
            "[0, 9, 4, 1, 3, 2, 6, 8, 7, 5]\n",
            "2.299663455478276\n",
            "Iteration 84\n",
            "[0, 1, 6, 2, 9, 4, 3, 5, 7, 8]\n",
            "6.743776141006338\n",
            "Iteration 85\n",
            "[0, 7, 5, 6, 2, 1, 4, 8, 3, 9]\n",
            "0.11217113859996497\n",
            "Iteration 86\n",
            "[0, 4, 5, 2, 6, 7, 1, 3, 8, 9]\n",
            "-2.198649155627438\n",
            "Iteration 87\n",
            "[0, 6, 2, 3, 5, 8, 9, 4, 7, 1]\n",
            "-0.15475469280520848\n",
            "Iteration 88\n",
            "[0, 9, 4, 6, 3, 2, 5, 7, 1, 8]\n",
            "0.39773880602374234\n",
            "Iteration 89\n",
            "[0, 6, 2, 7, 4, 9, 5, 3, 1, 8]\n",
            "1.9805094884531584\n",
            "Iteration 90\n",
            "[0, 4, 5, 6, 2, 7, 3, 1, 8, 9]\n",
            "-1.2959536480471439\n",
            "Iteration 91\n",
            "[0, 6, 5, 3, 2, 9, 7, 4, 8, 1]\n",
            "1.7804246991622852\n",
            "Iteration 92\n",
            "[0, 9, 1, 8, 6, 2, 7, 3, 4, 5]\n",
            "-0.8830503615723112\n",
            "Iteration 93\n",
            "[0, 6, 3, 2, 7, 1, 4, 5, 9, 8]\n",
            "3.019352266793735\n",
            "Iteration 94\n",
            "[0, 3, 7, 6, 8, 2, 1, 4, 5, 9]\n",
            "0.1761274805849799\n",
            "Iteration 95\n",
            "[0, 8, 6, 2, 7, 9, 4, 1, 5, 3]\n",
            "1.5094601217119163\n",
            "Iteration 96\n",
            "[0, 1, 7, 6, 2, 3, 9, 4, 5, 8]\n",
            "-1.4340584875724873\n",
            "Iteration 97\n",
            "[0, 3, 6, 2, 7, 8, 1, 4, 9, 5]\n",
            "4.095061952934905\n",
            "Iteration 98\n",
            "[0, 6, 1, 3, 2, 7, 4, 5, 9, 8]\n",
            "3.0150540503810594\n",
            "Iteration 99\n",
            "[0, 6, 2, 5, 3, 7, 1, 4, 9, 8]\n",
            "3.1936662930944975\n"
          ]
        }
      ]
    },
    {
      "cell_type": "markdown",
      "source": [
        "## Applying the Q-Table"
      ],
      "metadata": {
        "id": "REpe9dejyuIV"
      }
    },
    {
      "cell_type": "code",
      "source": [
        "route=[[0] for _ in range(num_vehicles)]\n",
        "\n",
        "route"
      ],
      "metadata": {
        "id": "2MWitYYeZ4R3",
        "outputId": "f819db89-a134-4462-f6b8-bef43c0be17a",
        "colab": {
          "base_uri": "https://localhost:8080/"
        }
      },
      "execution_count": 114,
      "outputs": [
        {
          "output_type": "execute_result",
          "data": {
            "text/plain": [
              "[[0], [0], [0], [0]]"
            ]
          },
          "metadata": {},
          "execution_count": 114
        }
      ]
    },
    {
      "cell_type": "code",
      "source": [
        "not_visited=[i for i in list(range(num_locations)) if i not in route[0]]"
      ],
      "metadata": {
        "id": "UJRWcA7qZ5mV"
      },
      "execution_count": 115,
      "outputs": []
    },
    {
      "cell_type": "code",
      "source": [
        "while len(not_visited)>0:\n",
        "  location=not_visited.pop()\n",
        "  costs=[Q_table[route[j][-1]][location] for j in range(num_vehicles)]\n",
        "  print(costs)\n",
        "  max_reward=max(costs)\n",
        "  max_reward_index=[i for i in range(num_vehicles) if costs[i]==max_reward]\n",
        "  max_reward_index=random.choice(max_reward_index)\n",
        "  print(max_reward_index)\n",
        "  route[max_reward_index].append(location)\n",
        "  print(route)"
      ],
      "metadata": {
        "colab": {
          "base_uri": "https://localhost:8080/"
        },
        "id": "-gKYFynQzCTu",
        "outputId": "cd74ee07-5310-4603-a2c7-1d456eb08f48"
      },
      "execution_count": 116,
      "outputs": [
        {
          "output_type": "stream",
          "name": "stdout",
          "text": [
            "[0.22868467855268707, 0.22868467855268707, 0.22868467855268707, 0.22868467855268707]\n",
            "3\n",
            "[[0], [0], [0], [0, 9]]\n",
            "[0.16803937427934473, 0.16803937427934473, 0.16803937427934473, 0.0786909310829741]\n",
            "1\n",
            "[[0], [0, 8], [0], [0, 9]]\n",
            "[0.6597844151097555, 0.6597844151097555, 0.6597844151097555, -0.10363694252729086]\n",
            "2\n",
            "[[0], [0, 8], [0, 7], [0, 9]]\n",
            "[0.9407330533189541, 0.9407330533189541, 0.9407330533189541, -0.026767151747593282]\n",
            "1\n",
            "[[0], [0, 8, 6], [0, 7], [0, 9]]\n",
            "[0.36969362250522786, 0.36969362250522786, 0.36969362250522786, 0.11134461931329515]\n",
            "2\n",
            "[[0], [0, 8, 6], [0, 7, 5], [0, 9]]\n",
            "[0.427961176703523, 0.427961176703523, 0.427961176703523, 0.21765327897287245]\n",
            "1\n",
            "[[0], [0, 8, 6, 4], [0, 7, 5], [0, 9]]\n",
            "[0.36831431941809406, 0.36831431941809406, 0.36831431941809406, 0.02048140918348411]\n",
            "2\n",
            "[[0], [0, 8, 6, 4], [0, 7, 5, 3], [0, 9]]\n",
            "[0.6750997930724506, 0.6750997930724506, 0.6750997930724506, -0.016947633632549017]\n",
            "0\n",
            "[[0, 2], [0, 8, 6, 4], [0, 7, 5, 3], [0, 9]]\n",
            "[0.4439199992932977, 0.4439199992932977, 0.4439199992932977, 0.040519507185255974]\n",
            "2\n",
            "[[0, 2], [0, 8, 6, 4], [0, 7, 5, 3, 1], [0, 9]]\n"
          ]
        }
      ]
    },
    {
      "cell_type": "code",
      "source": [
        "total_cost=0\n",
        "for i in route:\n",
        "  total_cost+=compute_cost(i)\n",
        "\n",
        "print(\"Total cost:\",total_cost)\n"
      ],
      "metadata": {
        "colab": {
          "base_uri": "https://localhost:8080/"
        },
        "id": "e0KnbKs70O5x",
        "outputId": "eff6464d-b9f2-42a5-f179-7e705ba037ea"
      },
      "execution_count": 117,
      "outputs": [
        {
          "output_type": "stream",
          "name": "stdout",
          "text": [
            "Total cost: -1.1946718728485273\n"
          ]
        }
      ]
    }
  ],
  "metadata": {
    "colab": {
      "provenance": []
    },
    "kernelspec": {
      "display_name": "Python 3",
      "name": "python3"
    }
  },
  "nbformat": 4,
  "nbformat_minor": 0
}